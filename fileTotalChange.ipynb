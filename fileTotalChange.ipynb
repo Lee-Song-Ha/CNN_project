{
  "nbformat": 4,
  "nbformat_minor": 0,
  "metadata": {
    "colab": {
      "provenance": [],
      "authorship_tag": "ABX9TyNcWWT2jEFsLTIWdIJvm5/F",
      "include_colab_link": true
    },
    "kernelspec": {
      "name": "python3",
      "display_name": "Python 3"
    },
    "language_info": {
      "name": "python"
    }
  },
  "cells": [
    {
      "cell_type": "markdown",
      "metadata": {
        "id": "view-in-github",
        "colab_type": "text"
      },
      "source": [
        "<a href=\"https://colab.research.google.com/github/Lee-Song-Ha/CNN_project/blob/main/fileTotalChange.ipynb\" target=\"_parent\"><img src=\"https://colab.research.google.com/assets/colab-badge.svg\" alt=\"Open In Colab\"/></a>"
      ]
    },
    {
      "cell_type": "code",
      "execution_count": null,
      "metadata": {
        "id": "4YVLkE8XKgvb"
      },
      "outputs": [],
      "source": [
        "# 세이 악성코드 이미지화 코드 + 송하 폴더 안의 파일 한번에 실행\n",
        "import os,sys\n",
        "import numpy as np\n",
        "from PIL import Image\n",
        "\n",
        "def getFileList(root_dir,prefix):\n",
        "  files = os.listdir(root_dir)\n",
        "  for file in files:\n",
        "    file_full_path = os.path.join(root_dir, file)\n",
        "    path = os.path.dirname(file_full_path)\n",
        "    base_name=os.path.splitext(os.path.basename(file_full_path))[0]\n",
        "    outputFilename=os.path.join(path,base_name)\n",
        "\n",
        "    binaryData=getBinaryData(file_full_path)\n",
        "    createGreyScaleImageSpecificWith(binaryData, outputFilename)\n",
        "\n",
        "def getBinaryData(filename):\n",
        "  image=np.zeros((256,256)) \n",
        "  with open (filename) as file: \n",
        "    rectype = np.dtype(np.int8) \n",
        "    binaryValues = np.fromfile(file, dtype=rectype)\n",
        "\n",
        "    i,j,p=0,0,0 \n",
        "    for c in binaryValues: \n",
        "        if(i<256):\n",
        "            if(j<256):\n",
        "                image[i][j]=c \n",
        "                j+=1\n",
        "            elif(j==256):\n",
        "                j=0\n",
        "                i+=1\n",
        "        elif(i==256):\n",
        "            i=0\n",
        "    \n",
        "    return image\n",
        "\n",
        "def createGreyScaleImageSpecificWith(dataSet, outputfilename): \n",
        "  \n",
        "  img=Image.fromarray(dataSet) \n",
        "  img2= img.convert('L')\n",
        "\n",
        "  imagename = outputfilename + \".png\"\n",
        "  img2.save(imagename)\n",
        "  img2.show()\n",
        "  print(imagename+\" Greyscale image created\")\n",
        "\n",
        "if __name__==\"__main__\": \n",
        "  root_dir=sys.argv[1]\n",
        "  getFileList(root_dir,\"\")"
      ]
    }
  ]
}