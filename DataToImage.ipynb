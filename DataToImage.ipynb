{
  "nbformat": 4,
  "nbformat_minor": 0,
  "metadata": {
    "colab": {
      "name": "DataToImage.ipynb",
      "provenance": [],
      "include_colab_link": true
    },
    "kernelspec": {
      "name": "python3",
      "display_name": "Python 3"
    },
    "language_info": {
      "name": "python"
    }
  },
  "cells": [
    {
      "cell_type": "markdown",
      "metadata": {
        "id": "view-in-github",
        "colab_type": "text"
      },
      "source": [
        "<a href=\"https://colab.research.google.com/github/Lee-Song-Ha/CNN_project/blob/main/DataToImage.ipynb\" target=\"_parent\"><img src=\"https://colab.research.google.com/assets/colab-badge.svg\" alt=\"Open In Colab\"/></a>"
      ]
    },
    {
      "cell_type": "code",
      "execution_count": null,
      "metadata": {
        "id": "YRB79A-McB-3"
      },
      "outputs": [],
      "source": [
        "# 희윤이가 찾은 코드 ㅀㄹㄹㄹㄹ\n",
        "for fil in dirs:\n",
        "  image = np.zeros((512,512))\n",
        "  with open(path+fil, \"rb\") as f:\n",
        "    byte = f.read()\n",
        "    i,j,p=0,0,0\n",
        "    print(fil)\n",
        "    \n",
        "    for c in byte:\n",
        "      if (i < 512):\n",
        "        if (j < 512):\n",
        "          image[i][j] = c\n",
        "          j += 1\n",
        "          elif (j == 512):\n",
        "            j = 0\n",
        "            i += 1\n",
        "        elif (i == 512):\n",
        "          i = 0\n",
        "    \n",
        "    a=np.matrix(image)\n",
        "    result.append(np.array_equal(temp1,a))\n",
        "    temp1=a\n",
        "\n",
        "    img = image.fromarray(image)\n",
        "    img2 = img.convert('L')\n",
        "\n",
        "    img2.save(path2+fil[0:-4] + \".bmp\")\n",
        "    img2 = img2.resize((36,36),Image. ANTIALIAS)\n",
        "\n",
        "print (result)"
      ]
    },
    {
      "cell_type": "code",
      "source": [
        "# 송하가 찾은 코드\n",
        "import os,sys\n",
        "from PIL import Image\n",
        "\n",
        "def getBinaryData(filename):\n",
        "  binaryValues = []\n",
        "  file = open(filename, \"rb\")\n",
        "  data = file.read(1)\n",
        "  while data !=b\"\":\n",
        "    try:\n",
        "      binaryValues.append(ord(data))\n",
        "    except TypeError:\n",
        "      pass\n",
        "    data = file.read(1)\n",
        "\n",
        "    return binaryValues\n",
        "\n",
        "def createGreyScaleImageSpecificWith(dataSet, outputfilename,width=0):\n",
        "\n",
        "  if (width == 0):\n",
        "    width = 32\n",
        "  elif (10240 <= size <= 10240*3):\n",
        "    width = 64\n",
        "  elif (10240*3 <= size <= 10240*6):\n",
        "    width = 128\n",
        "  elif (10240*6 <= size <= 10240*10):\n",
        "    width = 256\n",
        "  elif (10240*10 <= size <= 10240*20):\n",
        "    width = 384\n",
        "  elif (10240*20 <= size <= 10240*50):\n",
        "    width = 512\n",
        "  elif (10240*50 <= size <= 10240*50):\n",
        "    width = 768\n",
        "  else :\n",
        "    width = 1024\n",
        "  \n",
        "  height = int(size/width)+1\n",
        "\n",
        "  image = Image.new('L', (width,height))\n",
        "\n",
        "  image.putdata(dataSet)\n",
        "\n",
        "  imagename = outputfilename + \".png\"\n",
        "  image.save(imagename)\n",
        "  image.show()\n",
        "  print(imagename+\" Greyscale image created\")\n",
        "\n",
        "if __name__==\"__main__\":\n",
        "  file_full_path=sys.argv[1]\n",
        "  path=os.path.dirname(file_full_path)\n",
        "  base_name=os.path.splitext(os.path.basename(file_full_path))[0]\n",
        "  outputFilename=os.path.join(path,base_name)\n",
        "\n",
        "  binaryData=getBinaryData(file_full_path)\n",
        "  createGrayScaleImageSpecificWith(binaryData, outputFilename)"
      ],
      "metadata": {
        "id": "qdiVWn7tgi7t"
      },
      "execution_count": null,
      "outputs": []
    }
  ]
}