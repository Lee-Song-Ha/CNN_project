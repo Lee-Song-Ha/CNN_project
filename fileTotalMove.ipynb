{
  "nbformat": 4,
  "nbformat_minor": 0,
  "metadata": {
    "colab": {
      "provenance": [],
      "authorship_tag": "ABX9TyPb/F56tJUr9Zp1Z8B83g3G",
      "include_colab_link": true
    },
    "kernelspec": {
      "name": "python3",
      "display_name": "Python 3"
    },
    "language_info": {
      "name": "python"
    }
  },
  "cells": [
    {
      "cell_type": "markdown",
      "metadata": {
        "id": "view-in-github",
        "colab_type": "text"
      },
      "source": [
        "<a href=\"https://colab.research.google.com/github/Lee-Song-Ha/CNN_project/blob/main/fileTotalMove.ipynb\" target=\"_parent\"><img src=\"https://colab.research.google.com/assets/colab-badge.svg\" alt=\"Open In Colab\"/></a>"
      ]
    },
    {
      "cell_type": "code",
      "execution_count": null,
      "metadata": {
        "id": "rBsli2nEmFp1"
      },
      "outputs": [],
      "source": [
        "import os\n",
        "import shutil\n",
        "\n",
        "for root, subdirs, files in os.walk('파일이 들어있는 폴더 이름'):\n",
        "  filename = ['파일 이름']\n",
        "  for f in files:\n",
        "    for i in filename:\n",
        "      if (i) in f:\n",
        "        file_to_move = os.path.join(root,f)\n",
        "        shutil.move(file_to_move,'이동할 폴더 이름')"
      ]
    }
  ]
}