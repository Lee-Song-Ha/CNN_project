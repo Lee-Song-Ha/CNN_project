{
  "nbformat": 4,
  "nbformat_minor": 0,
  "metadata": {
    "colab": {
      "name": "testPython.ipynb",
      "provenance": [],
      "include_colab_link": true
    },
    "kernelspec": {
      "name": "python3",
      "display_name": "Python 3"
    },
    "language_info": {
      "name": "python"
    }
  },
  "cells": [
    {
      "cell_type": "markdown",
      "metadata": {
        "id": "view-in-github",
        "colab_type": "text"
      },
      "source": [
        "<a href=\"https://colab.research.google.com/github/Lee-Song-Ha/CNN_project/blob/main/testPython.ipynb\" target=\"_parent\"><img src=\"https://colab.research.google.com/assets/colab-badge.svg\" alt=\"Open In Colab\"/></a>"
      ]
    },
    {
      "cell_type": "code",
      "execution_count": 2,
      "metadata": {
        "id": "cewDd9n_VruM",
        "colab": {
          "base_uri": "https://localhost:8080/",
          "height": 381
        },
        "outputId": "b6f0e06f-2e56-44ea-b372-1bc07a1a8dc8"
      },
      "outputs": [
        {
          "output_type": "error",
          "ename": "FileNotFoundError",
          "evalue": "ignored",
          "traceback": [
            "\u001b[0;31m---------------------------------------------------------------------------\u001b[0m",
            "\u001b[0;31mFileNotFoundError\u001b[0m                         Traceback (most recent call last)",
            "\u001b[0;32m<ipython-input-2-d25d86952d9d>\u001b[0m in \u001b[0;36m<module>\u001b[0;34m\u001b[0m\n\u001b[1;32m     52\u001b[0m   \u001b[0moutputFilename\u001b[0m\u001b[0;34m=\u001b[0m\u001b[0mos\u001b[0m\u001b[0;34m.\u001b[0m\u001b[0mpath\u001b[0m\u001b[0;34m.\u001b[0m\u001b[0mjoin\u001b[0m\u001b[0;34m(\u001b[0m\u001b[0mpath\u001b[0m\u001b[0;34m,\u001b[0m\u001b[0mbase_name\u001b[0m\u001b[0;34m)\u001b[0m\u001b[0;34m\u001b[0m\u001b[0;34m\u001b[0m\u001b[0m\n\u001b[1;32m     53\u001b[0m \u001b[0;34m\u001b[0m\u001b[0m\n\u001b[0;32m---> 54\u001b[0;31m   \u001b[0mbinaryData\u001b[0m\u001b[0;34m=\u001b[0m\u001b[0mgetBinaryData\u001b[0m\u001b[0;34m(\u001b[0m\u001b[0mfile_full_path\u001b[0m\u001b[0;34m)\u001b[0m\u001b[0;34m\u001b[0m\u001b[0;34m\u001b[0m\u001b[0m\n\u001b[0m\u001b[1;32m     55\u001b[0m   \u001b[0msize\u001b[0m \u001b[0;34m=\u001b[0m \u001b[0mlen\u001b[0m\u001b[0;34m(\u001b[0m\u001b[0mbinaryData\u001b[0m\u001b[0;34m)\u001b[0m\u001b[0;34m\u001b[0m\u001b[0;34m\u001b[0m\u001b[0m\n\u001b[1;32m     56\u001b[0m   \u001b[0mcreateGreyScaleImageSpecificWith\u001b[0m\u001b[0;34m(\u001b[0m\u001b[0mbinaryData\u001b[0m\u001b[0;34m,\u001b[0m \u001b[0moutputFilename\u001b[0m\u001b[0;34m,\u001b[0m \u001b[0mwidth\u001b[0m\u001b[0;34m=\u001b[0m\u001b[0;36m0\u001b[0m\u001b[0;34m)\u001b[0m\u001b[0;34m\u001b[0m\u001b[0;34m\u001b[0m\u001b[0m\n",
            "\u001b[0;32m<ipython-input-2-d25d86952d9d>\u001b[0m in \u001b[0;36mgetBinaryData\u001b[0;34m(filename)\u001b[0m\n\u001b[1;32m      5\u001b[0m \u001b[0;32mdef\u001b[0m \u001b[0mgetBinaryData\u001b[0m\u001b[0;34m(\u001b[0m\u001b[0mfilename\u001b[0m\u001b[0;34m)\u001b[0m\u001b[0;34m:\u001b[0m\u001b[0;34m\u001b[0m\u001b[0;34m\u001b[0m\u001b[0m\n\u001b[1;32m      6\u001b[0m   \u001b[0mbinaryValues\u001b[0m \u001b[0;34m=\u001b[0m \u001b[0;34m[\u001b[0m\u001b[0;34m]\u001b[0m\u001b[0;34m\u001b[0m\u001b[0;34m\u001b[0m\u001b[0m\n\u001b[0;32m----> 7\u001b[0;31m   \u001b[0mfile\u001b[0m \u001b[0;34m=\u001b[0m \u001b[0mopen\u001b[0m\u001b[0;34m(\u001b[0m\u001b[0mfilename\u001b[0m\u001b[0;34m,\u001b[0m \u001b[0;34m\"rb\"\u001b[0m\u001b[0;34m)\u001b[0m\u001b[0;34m\u001b[0m\u001b[0;34m\u001b[0m\u001b[0m\n\u001b[0m\u001b[1;32m      8\u001b[0m   \u001b[0mdata\u001b[0m \u001b[0;34m=\u001b[0m \u001b[0mfile\u001b[0m\u001b[0;34m.\u001b[0m\u001b[0mread\u001b[0m\u001b[0;34m(\u001b[0m\u001b[0;36m1\u001b[0m\u001b[0;34m)\u001b[0m\u001b[0;34m\u001b[0m\u001b[0;34m\u001b[0m\u001b[0m\n\u001b[1;32m      9\u001b[0m   \u001b[0;32mwhile\u001b[0m \u001b[0mdata\u001b[0m \u001b[0;34m!=\u001b[0m\u001b[0;34mb\"\"\u001b[0m\u001b[0;34m:\u001b[0m\u001b[0;34m\u001b[0m\u001b[0;34m\u001b[0m\u001b[0m\n",
            "\u001b[0;31mFileNotFoundError\u001b[0m: [Errno 2] No such file or directory: '-f'"
          ]
        }
      ],
      "source": [
        "# 송하가 수정한 코드 +세이\n",
        "import os,sys\n",
        "from PIL import Image\n",
        "\n",
        "def getBinaryData(filename):\n",
        "  binaryValues = []\n",
        "  file = open(filename, \"rb\")\n",
        "  data = file.read(1)\n",
        "  while data !=b\"\":\n",
        "    try:\n",
        "      binaryValues.append(ord(data))\n",
        "    except TypeError:\n",
        "      pass\n",
        "    data = file.read(1)\n",
        "\n",
        "    return binaryValues\n",
        "\n",
        "def createGreyScaleImageSpecificWith(dataSet, outputfilename,width=0):\n",
        "\n",
        "  if (width == 0):\n",
        "    size=len(dataSet)\n",
        "\n",
        "    if(size<10240):\n",
        "      width = 32\n",
        "    elif (10240 <= size <= 10240*3):\n",
        "      width = 64\n",
        "    elif (10240*3 <= size <= 10240*6):\n",
        "      width = 128\n",
        "    elif (10240*6 <= size <= 10240*10):\n",
        "     width = 256\n",
        "    elif (10240*10 <= size <= 10240*20):\n",
        "       width = 384\n",
        "    elif (10240*20 <= size <= 10240*50):\n",
        "      width = 512\n",
        "    elif (10240*50 <= size <= 10240*50):\n",
        "      width = 768\n",
        "    else :\n",
        "      width = 1024\n",
        "  \n",
        "  height = int(size/width)+1\n",
        "\n",
        "  image = Image.new('L', (width,height))\n",
        "\n",
        "  image.putdata(dataSet)\n",
        "\n",
        "  imagename = outputfilename + \".png\"\n",
        "  image.save(imagename)\n",
        "  image.show()\n",
        "  print(imagename+\" Greyscale image created\")\n",
        "\n",
        "if __name__==\"__main__\":\n",
        "  file_full_path=sys.argv[1]\n",
        "  path=os.path.dirname(file_full_path)\n",
        "  base_name=os.path.splitext(os.path.basename(file_full_path))[0]\n",
        "  outputFilename=os.path.join(path,base_name)\n",
        "\n",
        "  binaryData=getBinaryData(file_full_path)\n",
        "  createGreyScaleImageSpecificWith(binaryData, outputFilename, width=0)"
      ]
    },
    {
      "cell_type": "code",
      "source": [],
      "metadata": {
        "id": "BZ7TH0dvZ0l3"
      },
      "execution_count": null,
      "outputs": []
    }
  ]
}