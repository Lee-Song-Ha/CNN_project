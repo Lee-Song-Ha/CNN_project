{
  "nbformat": 4,
  "nbformat_minor": 0,
  "metadata": {
    "colab": {
      "provenance": [],
      "authorship_tag": "ABX9TyMVtqOoWjog+knDbOqOIfvC",
      "include_colab_link": true
    },
    "kernelspec": {
      "name": "python3",
      "display_name": "Python 3"
    },
    "language_info": {
      "name": "python"
    }
  },
  "cells": [
    {
      "cell_type": "markdown",
      "metadata": {
        "id": "view-in-github",
        "colab_type": "text"
      },
      "source": [
        "<a href=\"https://colab.research.google.com/github/Lee-Song-Ha/CNN_project/blob/main/middleTest.ipynb\" target=\"_parent\"><img src=\"https://colab.research.google.com/assets/colab-badge.svg\" alt=\"Open In Colab\"/></a>"
      ]
    },
    {
      "cell_type": "code",
      "execution_count": null,
      "metadata": {
        "id": "4yUhJcyhUYnW"
      },
      "outputs": [],
      "source": [
        "# 세이 악성코드 이미지화 코드 + 송하 폴더 안의 파일 한번에 실행\n",
        "import os,sys # 운영체제가 동작하도록 명령하는 라이브러리\n",
        "import numpy as np # 배열 편집을 수월하게 하도록 도와주는 라이브러리\n",
        "from PIL import Image # 이미지 파일을 편집하는 라이브러리\n",
        "\n",
        "# 폴더 안에 있는 파일 목록을 불러와서 파일 경로를 리스트로 작성하는 함수\n",
        "def getFileList(root_dir,prefix):\n",
        "  # 폴더 안에 파일이름을 리스트로 불러온다\n",
        "  files = os.listdir(root_dir)\n",
        "  # 리스트 안에 있는 파일들을 경로로 수정해서 파일 읽기 함수, 이미지 변환 함수 실행\n",
        "  for file in files:\n",
        "    file_full_path = os.path.join(root_dir, file) # 파일 이름과 폴더 경로를 합침\n",
        "    path = os.path.dirname(file_full_path) # 파일 경로를 경로화 시킴\n",
        "    base_name=os.path.splitext(os.path.basename(file_full_path))[0] # 파일 경로에서 파일 이름만 따로 뽑음\n",
        "    outputFilename=os.path.join(path,base_name) # 파일 경로와 파일 이름 합침\n",
        "\n",
        "    binaryData=getBinaryData(file_full_path) # 파일 불러오는 함수 실행\n",
        "    createGreyScaleImageSpecificWith(binaryData, outputFilename) # 이미지 변환하는 함수 실행\n",
        "\n",
        "def getBinaryData(filename):\n",
        "  image=np.zeros((256,256)) \n",
        "  with open (filename) as file: \n",
        "    rectype = np.dtype(np.int8) \n",
        "    binaryValues = np.fromfile(file, dtype=rectype)\n",
        "    size = len(binaryValues)\n",
        "\n",
        "    i,j,p=0,0,0 \n",
        "    if (size < 65536):\n",
        "      start = 0\n",
        "    else:\n",
        "      start = size/2\n",
        "    \n",
        "    for c in (start, size):\n",
        "       if(i<256):\n",
        "          if(j<256):\n",
        "              image[i][j]=c\n",
        "              j+=1\n",
        "          elif(j==256):\n",
        "              j=0\n",
        "              i+=1\n",
        "      elif(i==256):\n",
        "          i=0\n",
        "    \n",
        "    return image\n",
        "\n",
        "def createGreyScaleImageSpecificWith(dataSet, outputfilename): \n",
        "  \n",
        "  img=Image.fromarray(dataSet) \n",
        "  img2= img.convert('L')\n",
        "\n",
        "  imagename = outputfilename + \".png\"\n",
        "  img2.save(imagename)\n",
        "  # img2.show()\n",
        "  print(imagename+\" Greyscale image created\")\n",
        "\n",
        "if __name__==\"__main__\": \n",
        "  root_dir=sys.argv[1]\n",
        "  getFileList(root_dir,\"\")\n",
        "  print(\"Finish\")"
      ]
    }
  ]
}