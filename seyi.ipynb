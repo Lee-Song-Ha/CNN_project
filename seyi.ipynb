{
  "nbformat": 4,
  "nbformat_minor": 0,
  "metadata": {
    "colab": {
      "name": "seyi.ipynb",
      "provenance": [],
      "authorship_tag": "ABX9TyOfBr1iE2QiJQn9A4YJJTpS",
      "include_colab_link": true
    },
    "kernelspec": {
      "name": "python3",
      "display_name": "Python 3"
    },
    "language_info": {
      "name": "python"
    }
  },
  "cells": [
    {
      "cell_type": "markdown",
      "metadata": {
        "id": "view-in-github",
        "colab_type": "text"
      },
      "source": [
        "<a href=\"https://colab.research.google.com/github/Lee-Song-Ha/CNN_project/blob/main/seyi.ipynb\" target=\"_parent\"><img src=\"https://colab.research.google.com/assets/colab-badge.svg\" alt=\"Open In Colab\"/></a>"
      ]
    },
    {
      "cell_type": "code",
      "execution_count": 1,
      "metadata": {
        "id": "_G0ZfINXJb7P",
        "colab": {
          "base_uri": "https://localhost:8080/"
        },
        "outputId": "b19f591f-bdaa-413d-ee5d-a23b14b5ba09"
      },
      "outputs": [
        {
          "output_type": "stream",
          "name": "stdout",
          "text": [
            "안뇽\n"
          ]
        }
      ],
      "source": [
        "import numpy as np;\n",
        "\n",
        "print(\"안뇽\")"
      ]
    },
    {
      "cell_type": "code",
      "source": [],
      "metadata": {
        "id": "cv57KP7LPzNU"
      },
      "execution_count": null,
      "outputs": []
    }
  ]
}