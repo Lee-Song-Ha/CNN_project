{
  "nbformat": 4,
  "nbformat_minor": 0,
  "metadata": {
    "colab": {
      "provenance": [],
      "collapsed_sections": [],
      "include_colab_link": true
    },
    "kernelspec": {
      "name": "python3",
      "display_name": "Python 3"
    },
    "language_info": {
      "name": "python"
    }
  },
  "cells": [
    {
      "cell_type": "markdown",
      "metadata": {
        "id": "view-in-github",
        "colab_type": "text"
      },
      "source": [
        "<a href=\"https://colab.research.google.com/github/Lee-Song-Ha/CNN_project/blob/main/seyi.ipynb\" target=\"_parent\"><img src=\"https://colab.research.google.com/assets/colab-badge.svg\" alt=\"Open In Colab\"/></a>"
      ]
    },
    {
      "cell_type": "code",
      "execution_count": null,
      "metadata": {
        "id": "_G0ZfINXJb7P"
      },
      "outputs": [],
      "source": [
        "# 세이 악성코드 이미지화 코드\n",
        "import os,sys\n",
        "import numpy as np\n",
        "from PIL import Image\n",
        "\n",
        "def getBinaryData(filename):\n",
        "  image=np.zeros((256,256)) \n",
        "  with open (filename) as file: \n",
        "    rectype = np.dtype(np.int8) \n",
        "    binaryValues = np.fromfile(file, dtype=rectype)\n",
        "    print(len(binaryValues))\n",
        "\n",
        "if __name__==\"__main__\": \n",
        "  file_full_path=sys.argv[1]\n",
        "  path=os.path.dirname(file_full_path)\n",
        "  base_name=os.path.splitext(os.path.basename(file_full_path))[0]\n",
        "  outputFilename=os.path.join(path,base_name)\n",
        "\n",
        "  getBinaryData(file_full_path)"
      ]
    },
    {
      "cell_type": "code",
      "source": [],
      "metadata": {
        "id": "cv57KP7LPzNU"
      },
      "execution_count": null,
      "outputs": []
    }
  ]
}